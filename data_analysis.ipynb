{
 "cells": [
  {
   "cell_type": "markdown",
   "metadata": {},
   "source": [
    "## Data Analysis"
   ]
  },
  {
   "cell_type": "markdown",
   "metadata": {},
   "source": [
    "### 1. Class Distribution"
   ]
  },
  {
   "cell_type": "code",
   "execution_count": 176,
   "metadata": {},
   "outputs": [],
   "source": [
    "import pandas as pd\n",
    "import os\n",
    "from PIL import Image\n",
    "import warnings\n",
    "import matplotlib as plt"
   ]
  },
  {
   "cell_type": "code",
   "execution_count": 168,
   "metadata": {},
   "outputs": [
    {
     "name": "stdout",
     "output_type": "stream",
     "text": [
      "Index(['id', 'url', 'landmark_id'], dtype='object')\n"
     ]
    }
   ],
   "source": [
    "# dataset = pd.read_csv('./data/train.csv') # Gede's import\n",
    "dataset = pd.read_csv(\"./data/recognition/train.csv\") # Basil's import\n",
    "print(dataset.columns)"
   ]
  },
  {
   "cell_type": "code",
   "execution_count": 169,
   "metadata": {},
   "outputs": [
    {
     "name": "stdout",
     "output_type": "stream",
     "text": [
      "Number of Images expected (Training): 1225029\n",
      "Number of Images downloaded (Training): 1225027\n",
      "Difference: 2\n",
      "Missing Images:\n",
      "id                                              92423ea7db8ff3af\n",
      "url            http://r2.bru02t11.c.bigcache.googleapis.com/s...\n",
      "landmark_id                                                10895\n",
      "Name: 792934, dtype: object\n",
      "id                                              10f06455b6a05d88\n",
      "url            http://celebhot.hol.es/picture/static.panorami...\n",
      "landmark_id                                                12914\n",
      "Name: 723431, dtype: object\n",
      "Sanity Check: True\n"
     ]
    }
   ],
   "source": [
    "dir = \"/run/media/dekatria/My Passport/kaggle_dataset/google_recognition/train/\" # Basil's import\n",
    "imgList = os.listdir(dir) \n",
    "\n",
    "print(\"Number of Images expected (Training): %s\" % (dataset.shape[0]))\n",
    "print(\"Number of Images downloaded (Training): %s\" % len(imgList))\n",
    "print(\"Difference: %s\" % (dataset.shape[0] - len(imgList)))\n",
    "\n",
    "print(\"Missing Images:\")\n",
    "expImgList = [\"%s.jpg\" % x for x in range(dataset.shape[0])]\n",
    "    \n",
    "\n",
    "for i in list(set(expImgList)-set(imgList)):\n",
    "    ind = int(i[:-4])\n",
    "    print(dataset.iloc[ind])\n",
    "\n",
    "dataset = dataset.drop(dataset.index[[int(i[:-4]) for i in list(set(expImgList)-set(imgList))]])\n",
    "print(\"Sanity Check: %s\" % (dataset.shape[0] == len(imgList)))"
   ]
  },
  {
   "cell_type": "code",
   "execution_count": 170,
   "metadata": {},
   "outputs": [],
   "source": [
    "# TAKES A LONG TIME DO NOT RUN, USE PRE-PROCESSED FILE INSTEAD\n",
    "# warnings.filterwarnings('ignore')\n",
    "# imgList.sort()\n",
    "\n",
    "# imgDim = []\n",
    "# for i in imgList:\n",
    "# #     print(\"Processing: %s\" i, end=\"\\r\")\n",
    "#     try:\n",
    "#         img = Image.open(dir + i)\n",
    "#         imgDim.append(img.size)\n",
    "#     except:\n",
    "#         imgDim.append((\"NA\",\"NA\"))\n",
    "# print(imgDim[:5])"
   ]
  },
  {
   "cell_type": "code",
   "execution_count": 171,
   "metadata": {},
   "outputs": [],
   "source": [
    "# with open(\"./logs/dim_list.csv\", \"w\") as output:\n",
    "#     output.write(\"index, width, length, pixelCount\\n\")\n",
    "#     for i in range(len(imgList)):\n",
    "# #         print(\"Processing: %s\" % imgList[i])\n",
    "#         if \"NA\" not in imgDim[i]:\n",
    "#             output.write(\"%s, %s, %s, %s\\n\" % (imgList[i][:-4], \n",
    "#                                                imgDim[i][0], \n",
    "#                                                imgDim[i][1], \n",
    "#                                                imgDim[i][0]*imgDim[i][1]))\n",
    "#         else:\n",
    "#             output.write(\"%s, %s, %s, NA\\n\" % (imgList[i][:-4], \n",
    "#                                                imgDim[i][0], \n",
    "#                                                imgDim[i][1]))"
   ]
  },
  {
   "cell_type": "code",
   "execution_count": 172,
   "metadata": {},
   "outputs": [
    {
     "name": "stderr",
     "output_type": "stream",
     "text": [
      "/home/dekatria/.conda/envs/201801-compVis/lib/python3.5/site-packages/ipykernel/__main__.py:4: ParserWarning: Falling back to the 'python' engine because the 'c' engine does not support regex separators (separators > 1 char and different from '\\s+' are interpreted as regex); you can avoid this warning by specifying engine='python'.\n"
     ]
    },
    {
     "name": "stdout",
     "output_type": "stream",
     "text": [
      "Sanity Check: True\n",
      "Sanity Check: True\n",
      "id                                              cacf8152e2d2ae60\n",
      "url            http://static.panoramio.com/photos/original/70...\n",
      "landmark_id                                                 4676\n",
      "width                                                       3951\n",
      "length                                                      2963\n",
      "pixelCount                                           1.17068e+07\n",
      "Name: 0, dtype: object\n"
     ]
    }
   ],
   "source": [
    "imgDim = pd.read_csv(\"./logs/dim_list.csv\", \n",
    "                     index_col=\"index\", \n",
    "                     na_values=\"NA\", \n",
    "                     sep=\",\\s+\")\n",
    "\n",
    "print(\"Sanity Check: %s\" % (dataset.shape[0] == imgDim.shape[0]))\n",
    "\n",
    "dataset = pd.concat([dataset, imgDim], axis=1)\n",
    "\n",
    "print(\"Sanity Check: %s\" % (dataset.shape[0] == imgDim.shape[0]))\n",
    "\n",
    "print(dataset.iloc[0])"
   ]
  },
  {
   "cell_type": "code",
   "execution_count": 173,
   "metadata": {},
   "outputs": [
    {
     "name": "stdout",
     "output_type": "stream",
     "text": [
      "Number of Bad Images: 692\n",
      "Current Number of Usable Images: 1224335\n"
     ]
    }
   ],
   "source": [
    "print(\"Number of Bad Images: %s\" % sum(dataset[\"pixelCount\"].isna()))\n",
    "dataset = dataset[dataset[\"pixelCount\"].notna()]\n",
    "print(\"Current Number of Usable Images: %s\" % (dataset.shape[0]))"
   ]
  },
  {
   "cell_type": "code",
   "execution_count": 175,
   "metadata": {},
   "outputs": [
    {
     "data": {
      "text/html": [
       "<div>\n",
       "<style scoped>\n",
       "    .dataframe tbody tr th:only-of-type {\n",
       "        vertical-align: middle;\n",
       "    }\n",
       "\n",
       "    .dataframe tbody tr th {\n",
       "        vertical-align: top;\n",
       "    }\n",
       "\n",
       "    .dataframe thead th {\n",
       "        text-align: right;\n",
       "    }\n",
       "</style>\n",
       "<table border=\"1\" class=\"dataframe\">\n",
       "  <thead>\n",
       "    <tr style=\"text-align: right;\">\n",
       "      <th></th>\n",
       "      <th>id</th>\n",
       "      <th>url</th>\n",
       "      <th>landmark_id</th>\n",
       "      <th>width</th>\n",
       "      <th>length</th>\n",
       "      <th>pixelCount</th>\n",
       "    </tr>\n",
       "  </thead>\n",
       "  <tbody>\n",
       "    <tr>\n",
       "      <th>count</th>\n",
       "      <td>1224335</td>\n",
       "      <td>1224335</td>\n",
       "      <td>1.224335e+06</td>\n",
       "      <td>1.224335e+06</td>\n",
       "      <td>1.224335e+06</td>\n",
       "      <td>1.224335e+06</td>\n",
       "    </tr>\n",
       "    <tr>\n",
       "      <th>unique</th>\n",
       "      <td>1224335</td>\n",
       "      <td>1224335</td>\n",
       "      <td>NaN</td>\n",
       "      <td>NaN</td>\n",
       "      <td>NaN</td>\n",
       "      <td>NaN</td>\n",
       "    </tr>\n",
       "    <tr>\n",
       "      <th>top</th>\n",
       "      <td>ee3fc0b24918daa5</td>\n",
       "      <td>http://lh3.ggpht.com/-AEOt8LP_6GQ/SRWzr5OGXGI/...</td>\n",
       "      <td>NaN</td>\n",
       "      <td>NaN</td>\n",
       "      <td>NaN</td>\n",
       "      <td>NaN</td>\n",
       "    </tr>\n",
       "    <tr>\n",
       "      <th>freq</th>\n",
       "      <td>1</td>\n",
       "      <td>1</td>\n",
       "      <td>NaN</td>\n",
       "      <td>NaN</td>\n",
       "      <td>NaN</td>\n",
       "      <td>NaN</td>\n",
       "    </tr>\n",
       "    <tr>\n",
       "      <th>mean</th>\n",
       "      <td>NaN</td>\n",
       "      <td>NaN</td>\n",
       "      <td>7.335404e+03</td>\n",
       "      <td>1.167475e+03</td>\n",
       "      <td>9.834075e+02</td>\n",
       "      <td>1.315849e+06</td>\n",
       "    </tr>\n",
       "    <tr>\n",
       "      <th>std</th>\n",
       "      <td>NaN</td>\n",
       "      <td>NaN</td>\n",
       "      <td>4.026565e+03</td>\n",
       "      <td>5.034906e+02</td>\n",
       "      <td>4.299858e+02</td>\n",
       "      <td>9.801908e+05</td>\n",
       "    </tr>\n",
       "    <tr>\n",
       "      <th>min</th>\n",
       "      <td>NaN</td>\n",
       "      <td>NaN</td>\n",
       "      <td>0.000000e+00</td>\n",
       "      <td>1.000000e+01</td>\n",
       "      <td>1.400000e+01</td>\n",
       "      <td>1.500000e+02</td>\n",
       "    </tr>\n",
       "    <tr>\n",
       "      <th>25%</th>\n",
       "      <td>NaN</td>\n",
       "      <td>NaN</td>\n",
       "      <td>4.083000e+03</td>\n",
       "      <td>6.420000e+02</td>\n",
       "      <td>6.000000e+02</td>\n",
       "      <td>4.215000e+05</td>\n",
       "    </tr>\n",
       "    <tr>\n",
       "      <th>50%</th>\n",
       "      <td>NaN</td>\n",
       "      <td>NaN</td>\n",
       "      <td>7.075000e+03</td>\n",
       "      <td>1.200000e+03</td>\n",
       "      <td>1.071000e+03</td>\n",
       "      <td>1.707200e+06</td>\n",
       "    </tr>\n",
       "    <tr>\n",
       "      <th>75%</th>\n",
       "      <td>NaN</td>\n",
       "      <td>NaN</td>\n",
       "      <td>1.040000e+04</td>\n",
       "      <td>1.600000e+03</td>\n",
       "      <td>1.200000e+03</td>\n",
       "      <td>1.920000e+06</td>\n",
       "    </tr>\n",
       "    <tr>\n",
       "      <th>max</th>\n",
       "      <td>NaN</td>\n",
       "      <td>NaN</td>\n",
       "      <td>1.495000e+04</td>\n",
       "      <td>7.937000e+03</td>\n",
       "      <td>7.072000e+03</td>\n",
       "      <td>4.499485e+07</td>\n",
       "    </tr>\n",
       "  </tbody>\n",
       "</table>\n",
       "</div>"
      ],
      "text/plain": [
       "                      id                                                url  \\\n",
       "count            1224335                                            1224335   \n",
       "unique           1224335                                            1224335   \n",
       "top     ee3fc0b24918daa5  http://lh3.ggpht.com/-AEOt8LP_6GQ/SRWzr5OGXGI/...   \n",
       "freq                   1                                                  1   \n",
       "mean                 NaN                                                NaN   \n",
       "std                  NaN                                                NaN   \n",
       "min                  NaN                                                NaN   \n",
       "25%                  NaN                                                NaN   \n",
       "50%                  NaN                                                NaN   \n",
       "75%                  NaN                                                NaN   \n",
       "max                  NaN                                                NaN   \n",
       "\n",
       "         landmark_id         width        length    pixelCount  \n",
       "count   1.224335e+06  1.224335e+06  1.224335e+06  1.224335e+06  \n",
       "unique           NaN           NaN           NaN           NaN  \n",
       "top              NaN           NaN           NaN           NaN  \n",
       "freq             NaN           NaN           NaN           NaN  \n",
       "mean    7.335404e+03  1.167475e+03  9.834075e+02  1.315849e+06  \n",
       "std     4.026565e+03  5.034906e+02  4.299858e+02  9.801908e+05  \n",
       "min     0.000000e+00  1.000000e+01  1.400000e+01  1.500000e+02  \n",
       "25%     4.083000e+03  6.420000e+02  6.000000e+02  4.215000e+05  \n",
       "50%     7.075000e+03  1.200000e+03  1.071000e+03  1.707200e+06  \n",
       "75%     1.040000e+04  1.600000e+03  1.200000e+03  1.920000e+06  \n",
       "max     1.495000e+04  7.937000e+03  7.072000e+03  4.499485e+07  "
      ]
     },
     "execution_count": 175,
     "metadata": {},
     "output_type": "execute_result"
    },
    {
     "data": {
      "image/png": "[encoded data removed]",
      "text/plain": [
       "<Figure size 432x288 with 1 Axes>"
      ]
     },
     "metadata": {},
     "output_type": "display_data"
    },
    {
     "data": {
      "image/png": "[encoded data removed]",
      "text/plain": [
       "<Figure size 432x288 with 1 Axes>"
      ]
     },
     "metadata": {},
     "output_type": "display_data"
    },
    {
     "data": {
      "image/png": "[encoded data removed]",
      "text/plain": [
       "<Figure size 432x288 with 1 Axes>"
      ]
     },
     "metadata": {},
     "output_type": "display_data"
    }
   ],
   "source": [
    "dataset.hist(column=\"width\", bins=50)\n",
    "dataset.hist(column=\"length\", bins=50)\n",
    "dataset.hist(column=\"pixelCount\", bins=50)\n",
    "dataset.describe(include=\"all\")"
   ]
  },
  {
   "cell_type": "code",
   "execution_count": 178,
   "metadata": {},
   "outputs": [
    {
     "data": {
      "text/plain": [
       "array([[<matplotlib.axes._subplots.AxesSubplot object at 0x7f54188f7d68>]],\n",
       "      dtype=object)"
      ]
     },
     "execution_count": 178,
     "metadata": {},
     "output_type": "execute_result"
    },
    {
     "data": {
      "image/png": "[encoded data removed]",
      "text/plain": [
       "<Figure size 432x288 with 1 Axes>"
      ]
     },
     "metadata": {},
     "output_type": "display_data"
    },
    {
     "data": {
      "image/png": "[encoded data removed]",
      "text/plain": [
       "<Figure size 432x288 with 1 Axes>"
      ]
     },
     "metadata": {},
     "output_type": "display_data"
    },
    {
     "data": {
      "image/png": "[encoded data removed]",
      "text/plain": [
       "<Figure size 432x288 with 1 Axes>"
      ]
     },
     "metadata": {},
     "output_type": "display_data"
    }
   ],
   "source": [
    "dataset.hist(cumulative=True, column=\"width\", bins=50)\n",
    "dataset.hist(cumulative=True, column=\"length\", bins=50)\n",
    "dataset.hist(cumulative=True, column=\"pixelCount\", bins=50)"
   ]
  },
  {
   "cell_type": "code",
   "execution_count": 112,
   "metadata": {},
   "outputs": [
    {
     "name": "stdout",
     "output_type": "stream",
     "text": [
      "                      id                                                url  \\\n",
      "count            1225027                                            1225027   \n",
      "unique           1225027                                            1225027   \n",
      "top     ee3fc0b24918daa5  http://lh3.ggpht.com/-AEOt8LP_6GQ/SRWzr5OGXGI/...   \n",
      "freq                   1                                                  1   \n",
      "mean                 NaN                                                NaN   \n",
      "std                  NaN                                                NaN   \n",
      "min                  NaN                                                NaN   \n",
      "25%                  NaN                                                NaN   \n",
      "50%                  NaN                                                NaN   \n",
      "75%                  NaN                                                NaN   \n",
      "max                  NaN                                                NaN   \n",
      "\n",
      "         landmark_id    width   length  pixelCount  \n",
      "count   1.225027e+06  1225027  1225027     1225027  \n",
      "unique           NaN     2477     2356       25034  \n",
      "top              NaN     1600     1200     1920000  \n",
      "freq             NaN   542556   390325      498916  \n",
      "mean    7.335485e+03      NaN      NaN         NaN  \n",
      "std     4.026611e+03      NaN      NaN         NaN  \n",
      "min     0.000000e+00      NaN      NaN         NaN  \n",
      "25%     4.083000e+03      NaN      NaN         NaN  \n",
      "50%     7.075000e+03      NaN      NaN         NaN  \n",
      "75%     1.040000e+04      NaN      NaN         NaN  \n",
      "max     1.495000e+04      NaN      NaN         NaN  \n"
     ]
    }
   ],
   "source": [
    "data_freq = dataset.groupby('pixelCount').size().reset_index(name='counts')\n",
    "print('Maximum:', data_freq['counts'].max())\n",
    "print('Mean:', data_freq['counts'].mean())\n",
    "print('No. classes:', len(data_freq))\n",
    "\n",
    "print('\\nFiltering classes with count > 80')\n",
    "data_freq_upper = data_freq[data_freq['counts'] > 80]\n",
    "print('Mean:', int(data_freq_upper['counts'].mean()), 'images per class')\n",
    "print('No. valid classes:', len(data_freq_upper))\n",
    "\n",
    "print('\\nFiltering classes with count > 40')\n",
    "data_freq_upper2 = data_freq[data_freq['counts'] > 40]\n",
    "print('Mean:', int(data_freq_upper2['counts'].mean()), 'images per class')\n",
    "print('No. valid classes:', len(data_freq_upper2))\n",
    "\n",
    "print('\\nFiltering classes with count > 20')\n",
    "data_freq_upper3 = data_freq[data_freq['counts'] > 20]\n",
    "print('Mean:', int(data_freq_upper3['counts'].mean()), 'images per class')\n",
    "print('No. valid classes:', len(data_freq_upper3))"
   ]
  },
  {
   "cell_type": "markdown",
   "metadata": {},
   "source": [
    "Getting instance count of each class"
   ]
  },
  {
   "cell_type": "code",
   "execution_count": 3,
   "metadata": {},
   "outputs": [
    {
     "name": "stdout",
     "output_type": "stream",
     "text": [
      "Maximum: 50337\n",
      "Mean: 81.93625844425122\n",
      "No. classes: 14951\n",
      "\n",
      "Filtering classes with count > 80\n",
      "Mean: 413 images per class\n",
      "No. valid classes: 2421\n",
      "\n",
      "Filtering classes with count > 40\n",
      "Mean: 270 images per class\n",
      "No. valid classes: 4040\n",
      "\n",
      "Filtering classes with count > 20\n",
      "Mean: 187 images per class\n",
      "No. valid classes: 6154\n"
     ]
    }
   ],
   "source": [
    "data_freq = dataset.groupby('landmark_id').size().reset_index(name='counts')\n",
    "print('Maximum:', data_freq['counts'].max())\n",
    "print('Mean:', data_freq['counts'].mean())\n",
    "print('No. classes:', len(data_freq))\n",
    "\n",
    "print('\\nFiltering classes with count > 80')\n",
    "data_freq_upper = data_freq[data_freq['counts'] > 80]\n",
    "print('Mean:', int(data_freq_upper['counts'].mean()), 'images per class')\n",
    "print('No. valid classes:', len(data_freq_upper))\n",
    "\n",
    "print('\\nFiltering classes with count > 40')\n",
    "data_freq_upper2 = data_freq[data_freq['counts'] > 40]\n",
    "print('Mean:', int(data_freq_upper2['counts'].mean()), 'images per class')\n",
    "print('No. valid classes:', len(data_freq_upper2))\n",
    "\n",
    "print('\\nFiltering classes with count > 20')\n",
    "data_freq_upper3 = data_freq[data_freq['counts'] > 20]\n",
    "print('Mean:', int(data_freq_upper3['counts'].mean()), 'images per class')\n",
    "print('No. valid classes:', len(data_freq_upper3))\n",
    "\n",
    "# print(data_freq)"
   ]
  },
  {
   "cell_type": "code",
   "execution_count": 4,
   "metadata": {
    "collapsed": true
   },
   "outputs": [],
   "source": [
    "# saving stuff\n",
    "data80_filter = data_freq_upper['landmark_id']\n",
    "dataset80 = dataset[dataset['landmark_id'].isin(data80_filter)]\n",
    "dataset80.to_csv(\"./data/train80.csv\")\n",
    "\n",
    "\n",
    "data40_filter = data_freq_upper2['landmark_id']\n",
    "dataset40 = dataset[dataset['landmark_id'].isin(data40_filter)]\n",
    "dataset40.to_csv(\"./data/train40.csv\")\n",
    "\n",
    "data20_filter = data_freq_upper['landmark_id']\n",
    "dataset20 = dataset[dataset['landmark_id'].isin(data20_filter)]\n",
    "dataset20.to_csv(\"./data/train20.csv\")"
   ]
  },
  {
   "cell_type": "code",
   "execution_count": null,
   "metadata": {
    "collapsed": true
   },
   "outputs": [],
   "source": []
  }
 ],
 "metadata": {
  "kernelspec": {
   "display_name": "Python [default]",
   "language": "python",
   "name": "python3"
  },
  "language_info": {
   "codemirror_mode": {
    "name": "ipython",
    "version": 3
   },
   "file_extension": ".py",
   "mimetype": "text/x-python",
   "name": "python",
   "nbconvert_exporter": "python",
   "pygments_lexer": "ipython3",
   "version": "3.5.5"
  }
 },
 "nbformat": 4,
 "nbformat_minor": 2
}
